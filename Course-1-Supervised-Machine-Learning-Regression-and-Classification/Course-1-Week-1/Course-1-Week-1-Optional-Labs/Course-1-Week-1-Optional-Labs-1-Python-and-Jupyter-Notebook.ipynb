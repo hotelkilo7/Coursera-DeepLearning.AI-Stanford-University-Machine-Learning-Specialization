{
  "cells": [
    {
      "cell_type": "markdown",
      "metadata": {
        "id": "Q1xoEy2xjr5v"
      },
      "source": [
        "# Optional Lab:  Brief Introduction to Python and Jupyter Notebooks\n",
        "Welcome to the first optional lab!\n",
        "Optional labs are available to:\n",
        "- provide information - like this notebook\n",
        "- reinforce lecture material with hands-on examples\n",
        "- provide working examples of routines used in the graded labs"
      ],
      "id": "Q1xoEy2xjr5v"
    },
    {
      "cell_type": "markdown",
      "metadata": {
        "id": "8n7kMZP6jr5v"
      },
      "source": [
        "## Goals\n",
        "In this lab, you will:\n",
        "- Get a brief introduction to Jupyter notebooks\n",
        "- Take a tour of Jupyter notebooks\n",
        "- Learn the difference between markdown cells and code cells\n",
        "- Practice some basic python\n"
      ],
      "id": "8n7kMZP6jr5v"
    },
    {
      "cell_type": "markdown",
      "metadata": {
        "id": "tslNJzhvjr5w"
      },
      "source": [
        "The easiest way to become familiar with Jupyter notebooks is to take the tour available above in the Help menu:"
      ],
      "id": "tslNJzhvjr5w"
    },
    {
      "cell_type": "markdown",
      "metadata": {
        "id": "_Za0OE9ujr5w"
      },
      "source": [
        "<figure>\n",
        "    <center> <img src=\"https://github.com/hotelkilo7/Coursera-DeepLearning.AI-Stanford-University-Machine-Learning-Specialization/blob/main/Course-1-Supervised-Machine-Learning-Regression-and-Classification/Course-1-Week-1/Course-1-Week-1-Optional-Labs/images/C1W1L1_Tour.PNG?raw=1\"  alt='missing' width=\"400\"  ><center/>\n",
        "<figure/>"
      ],
      "id": "_Za0OE9ujr5w"
    },
    {
      "cell_type": "markdown",
      "metadata": {
        "id": "VSBrg54jjr5w"
      },
      "source": [
        "Jupyter notebooks have two types of cells that are used in this course. Cells such as this which contain documentation called `Markdown Cells`. The name is derived from the simple formatting language used in the cells. You will not be required to produce markdown cells. Its useful to understand the `cell pulldown` shown in graphic below. Occasionally, a cell will end up in the wrong mode and you may need to restore it to the right state:"
      ],
      "id": "VSBrg54jjr5w"
    },
    {
      "cell_type": "markdown",
      "metadata": {
        "id": "NqKoE4w6jr5w"
      },
      "source": [
        "<figure>\n",
        "   <img src=\"https://github.com/hotelkilo7/Coursera-DeepLearning.AI-Stanford-University-Machine-Learning-Specialization/blob/main/Course-1-Supervised-Machine-Learning-Regression-and-Classification/Course-1-Week-1/Course-1-Week-1-Optional-Labs/images/C1W1L1_Markdown.PNG?raw=1\"  alt='missing' width=\"400\"  >\n",
        "<figure/>"
      ],
      "id": "NqKoE4w6jr5w"
    },
    {
      "cell_type": "markdown",
      "metadata": {
        "id": "ULJouvEQjr5w"
      },
      "source": [
        "The other type of cell is the `code cell` where you will write your code:"
      ],
      "id": "ULJouvEQjr5w"
    },
    {
      "cell_type": "code",
      "execution_count": null,
      "metadata": {
        "id": "Cxz9Gpnzjr5w",
        "outputId": "2087bd42-936d-4599-d83f-164c18d33415"
      },
      "outputs": [
        {
          "name": "stdout",
          "output_type": "stream",
          "text": [
            "This is  code cell\n"
          ]
        }
      ],
      "source": [
        "#This is  a 'Code' Cell\n",
        "print(\"This is  code cell\")"
      ],
      "id": "Cxz9Gpnzjr5w"
    },
    {
      "cell_type": "markdown",
      "metadata": {
        "id": "NsPcJUBJjr5x"
      },
      "source": [
        "## Python\n",
        "You can write your code in the code cells.\n",
        "To run the code, select the cell and either\n",
        "- hold the shift-key down and hit 'enter' or 'return'\n",
        "- click the 'run' arrow above\n",
        "<figure>\n",
        "    <img src=\"https://github.com/hotelkilo7/Coursera-DeepLearning.AI-Stanford-University-Machine-Learning-Specialization/blob/main/Course-1-Supervised-Machine-Learning-Regression-and-Classification/Course-1-Week-1/Course-1-Week-1-Optional-Labs/images/C1W1L1_Run.PNG?raw=1\"  width=\"400\"  >\n",
        "<figure/>\n",
        "\n",
        ""
      ],
      "id": "NsPcJUBJjr5x"
    },
    {
      "cell_type": "markdown",
      "metadata": {
        "id": "GFEgnb2pjr5x"
      },
      "source": [
        "### Print statement\n",
        "Print statements will generally use the python f-string style.  \n",
        "Try creating your own print in the following cell.  \n",
        "Try both methods of running the cell."
      ],
      "id": "GFEgnb2pjr5x"
    },
    {
      "cell_type": "code",
      "execution_count": 1,
      "metadata": {
        "id": "8F3A9jZ_jr5x",
        "outputId": "260427d4-5ecf-453b-c9d2-5788809a5103",
        "colab": {
          "base_uri": "https://localhost:8080/"
        }
      },
      "outputs": [
        {
          "output_type": "stream",
          "name": "stdout",
          "text": [
            "f strings allow you to embed variables right in the strings!\n"
          ]
        }
      ],
      "source": [
        "# print statements\n",
        "variable = \"right in the strings!\"\n",
        "print(f\"f strings allow you to embed variables {variable}\")"
      ],
      "id": "8F3A9jZ_jr5x"
    },
    {
      "cell_type": "markdown",
      "metadata": {
        "id": "YjHdeJLajr5x"
      },
      "source": [
        "# Congratulations!\n",
        "You now know how to find your way around a Jupyter Notebook."
      ],
      "id": "YjHdeJLajr5x"
    }
  ],
  "metadata": {
    "kernelspec": {
      "display_name": "Python 3",
      "language": "python",
      "name": "python3"
    },
    "language_info": {
      "codemirror_mode": {
        "name": "ipython",
        "version": 3
      },
      "file_extension": ".py",
      "mimetype": "text/x-python",
      "name": "python",
      "nbconvert_exporter": "python",
      "pygments_lexer": "ipython3",
      "version": "3.7.6"
    },
    "colab": {
      "provenance": []
    }
  },
  "nbformat": 4,
  "nbformat_minor": 5
}